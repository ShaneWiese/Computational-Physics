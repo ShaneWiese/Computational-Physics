{
 "cells": [
  {
   "cell_type": "markdown",
   "metadata": {},
   "source": [
    "# A String Fixed at One End"
   ]
  },
  {
   "cell_type": "code",
   "execution_count": 15,
   "metadata": {},
   "outputs": [],
   "source": [
    "##Packages Needed for program\n",
    "import numpy as np\n",
    "import matplotlib.pyplot as plt\n",
    "import ode\n",
    "from scipy.optimize import curve_fit\n",
    "from scipy.linalg import eigh\n",
    "from mplEasyAnimate import animation\n",
    "from tqdm import tqdm\n",
    "from scipy.linalg import solve"
   ]
  },
  {
   "cell_type": "markdown",
   "metadata": {},
   "source": [
    "### In this Notebook we will be investigating some of the properties the motion of a spring fixed at one end and free at the other demonstrates.\n",
    "\n",
    "For three masses connected by four springs and one wall representing a boundary on the left hand side, the equations of motion for the displacement $u_i$ for each mass $m_i$ are:\n",
    "\n",
    "$$m_1\\ddot{u}_1 = -ku_1-k(u_1-u_2)=-2ku_1+ku_2$$\n",
    "\n",
    "$$m_2\\ddot{u}_2 = -k(u_2-u_1)-k(u_2-u_3)=ku_1-2ku_2+ku_3$$\n",
    "\n",
    "$$m_3\\ddot{u}_3 = -k(u_3-u_2)=ku_2-ku_3$$\n",
    "\n",
    "Where $k=F_T/L_0$.Here it can be observed that the end of the string of masses and springs that does not have a fixed boundary only reacts with the mass preceding it. This model also holds true with a string. If we consider a string with one fixed end, we can represent it as a group of finite masses being held together by a spring like force. The more N values used, the more accurate of a string model we will obtain.\n",
    "\n",
    "\n",
    "A string of length $L$ and tension $T$ is under a load $f$ in the $y$ direction, such as a uniform gravitational force. If we break the string into N segments and treat it like a spring attached to N masses, the matrix below can be formed\n",
    "\n",
    "\n",
    "$$\n",
    "\\left[ {\\begin{array}{ccccccc}\n",
    "   -2 & 1 & 0 & \\dots & 0 & 0 & 0 \\\\\n",
    "   1 & -2 & 1 & \\dots & 0 & 0 & 0 \\\\\n",
    "   0 & 1 & -2 & \\dots & 0 & 0 & 0 \\\\\n",
    "   0 & 0 & 0 & \\dots & 1 & -2 & 1 \\\\\n",
    "   0 & 0 & 0 & \\dots & 0 & 1 & -1 \\\\\n",
    "  \\end{array} } \\right]\n",
    "\\left[ {\\begin{array}{c}\n",
    "    u_1 \\\\\n",
    "    u_2 \\\\\n",
    "    \\vdots \\\\\n",
    "    u_{N-2} \\\\\n",
    "    u_{N-1} \\\\\n",
    "  \\end{array} } \\right]\n",
    "  =\n",
    "\\left[ \n",
    "{\\begin{array}{l}\n",
    "   = g_1 -u_0 \\\\\n",
    "   = g_2 \\\\\n",
    "   \\vdots \\\\\n",
    "   = g_{N-2} \\\\\n",
    "   = g_{N-1} -u_N \\\\\n",
    "  \\end{array} }\n",
    "\\right]\n",
    "$$\n",
    "\n",
    "or \n",
    "\n",
    "$$Au=B$$\n",
    "\n",
    "where $g_i=-h^2f_i/T$\n",
    "\n",
    "By using this matrix, A relativly accurrate representation of a string with one boundary can be plotted"
   ]
  },
  {
   "cell_type": "markdown",
   "metadata": {},
   "source": [
    "### First We will want to define all our functions that will be used throughout the program"
   ]
  },
  {
   "cell_type": "code",
   "execution_count": 178,
   "metadata": {},
   "outputs": [],
   "source": [
    "from IPython.display import HTML\n",
    "\n",
    "def playVideo(path):\n",
    "    return HTML(\"\"\"\n",
    "                <video width=\"320\" height=\"240\" controls>\n",
    "                  <source src=\"{}\" type=\"video/mp4\">\n",
    "                </video>\n",
    "                \"\"\".format(path))"
   ]
  },
  {
   "cell_type": "code",
   "execution_count": 220,
   "metadata": {},
   "outputs": [],
   "source": [
    "def plot_mode_teq0(mode, freqs, vecs,Natoms): #plot normal mode at t=0\n",
    "    \n",
    "    u_mode = vecs[:,mode]\n",
    "    u_mode_with_boundary=np.insert(u_mode,0,0) #add 0 to beginning of array\n",
    "    u_mode_with_boundary=np.append(u_mode_with_boundary,0) #add 0 to end of array\n",
    "    xa = np.linspace(0,L,Natoms+2)\n",
    "        \n",
    "    plt.figure()\n",
    "    plt.title(\"normal mode %d\" % mode)\n",
    "    plt.plot(xa,u_mode_with_boundary, 'b-', label='u_i')\n",
    "    plt.xlabel('x (m)')\n",
    "    plt.ylabel('y (m)')\n",
    "    plt.legend(loc='lower right')\n",
    "    plt.show()\n"
   ]
  },
  {
   "cell_type": "code",
   "execution_count": 206,
   "metadata": {},
   "outputs": [],
   "source": [
    "def wavemotion(u0, u1):\n",
    "    u2 = 2*(1-b)*u1 - u0                     # unshifted terms \n",
    "    u2[1:-1] += b*( u1[0:-2] + u1[2:] )      # left, right \n",
    "    return u2\n",
    "\n",
    "def gaussian(x):\n",
    "    return np.exp(-(x-5)**2)\n",
    "\n",
    "def tri(x,A,k):\n",
    "    return A*np.arcsin(np.sin(k*x))"
   ]
  },
  {
   "cell_type": "code",
   "execution_count": 186,
   "metadata": {},
   "outputs": [],
   "source": [
    "def easyanimate_string(t_array, u_array, filename):\n",
    "    xa = np.linspace(0., L, N+1)\n",
    "\n",
    "    t_offsets = t_array\n",
    "    anim = animation(filename)\n",
    "    i=0\n",
    "    for offset in tqdm(t_offsets):\n",
    "        fig, ax = plt.subplots(1, 1, figsize=(10, 7))\n",
    "        ax.plot(xa, u_array[i,:])\n",
    "        ax.set_xlim(0,L)\n",
    "        ax.set_ylim(-2,2)\n",
    "        \n",
    "        anim.add_frame(fig)\n",
    "        plt.close(fig)\n",
    "        i=i+1\n",
    "    anim.close()    "
   ]
  },
  {
   "cell_type": "markdown",
   "metadata": {},
   "source": [
    "## Plotting a string with one fixed end"
   ]
  },
  {
   "cell_type": "markdown",
   "metadata": {},
   "source": [
    "When plotting a string the boundary conditions that the string has to satisfy must be determined. For a string with one fixed end, the string contains one boundary where the end of the string must be at all times. For the sake of simplicty, we set the fixed end on the left side of the string at $y(m)=0$. Then by defining constants and creating the matrices above, we are able to plot $y$ as a function of $x$ "
   ]
  },
  {
   "cell_type": "code",
   "execution_count": 207,
   "metadata": {},
   "outputs": [
    {
     "data": {
      "image/png": "[encoded data removed]",
      "text/plain": [
       "<Figure size 432x288 with 1 Axes>"
      ]
     },
     "metadata": {
      "needs_background": "light"
     },
     "output_type": "display_data"
    }
   ],
   "source": [
    "#constants\n",
    "N = 100 #N value discussed above\n",
    "L = 10 #length of string\n",
    "T = 1 \n",
    "f0 = -1\n",
    "h = L/N\n",
    "\n",
    "#boundary conditions\n",
    "u_0 = 0\n",
    "\n",
    "\n",
    "#x_i grid points\n",
    "x_i = np.linspace(0,L,N+1)\n",
    "\n",
    "#Build matrices\n",
    "A=np.zeros((N-1,N-1))\n",
    "\n",
    "for i in range(N-1):\n",
    "    A[i,i] = -2\n",
    "    if i==0:\n",
    "        A[0,i+1]=1\n",
    "    elif i==N-2:\n",
    "        A[i,i-1]=1\n",
    "        A[i,i]=-1\n",
    "    else:\n",
    "        A[i,i-1]=1\n",
    "        A[i,i+1]=1\n",
    "\n",
    "#print(A)\n",
    "\n",
    "B=-h**2*f0*(1-x_i[1:-1]/L)/T*np.ones(N-1)\n",
    "B[0]=B[0]-u_0\n",
    "B[-1]=B[-1]\n",
    "#print(B)\n",
    "#find u_i at grid points\n",
    "u_i = solve(A,B)\n",
    "\n",
    "\n",
    "\n",
    "#insert u_i at boundaries\n",
    "u_i_with_boundary = np.insert(u_i,0,u_0)\n",
    "#u_i_with_boundary = np.append(u_i_with_boundary,u_N) no second boundary\n",
    "#print(u_i_with_boundary)\n",
    "#plot\n",
    "plt.figure()\n",
    "plt.title(\"hanging string\")\n",
    "plt.plot(x_i[:-1],u_i_with_boundary, 'b-', label='u_i')\n",
    "plt.xlabel('x (m)')\n",
    "plt.ylabel('y (m)')\n",
    "plt.legend(loc='lower right')\n",
    "plt.show()\n"
   ]
  },
  {
   "cell_type": "markdown",
   "metadata": {},
   "source": [
    "Here it can be observed that the string is fixed on the left boundary but as $x$ increases the string is acted upon by gravity and since there is no other boundary to hold it up it falls to a negative $y$ value. \n",
    "\n",
    "\n",
    "Next we want to look at the certain eigenvalue and eigenvectors the system possess. The point of this is to find the normal modes that the string could oscilate at. To do this we use the matrix A we defined above and solve it for a matrix C that takes the form \n",
    "\n",
    " \\begin{array}{ccc}\n",
    "   m_1 & 0 & 0  \\\\\n",
    "   0 & m_2 & 0 \\\\\n",
    "   0 & 0 & m_3 \\\\\n",
    "  \\end{array} \n",
    "\n",
    "\n",
    "for a system where N=3.The matix C is obtained by multiplying N masses by the identity matrix. For N=3 to solve for eigenvalues and eigenvectors we solve the equation below. \n",
    "\n",
    "$$\n",
    "\\left[ {\\begin{array}{ccc}\n",
    "   2k & -k & 0  \\\\\n",
    "   -k & 2k & -k \\\\\n",
    "   0 & -k & k  \\\\\n",
    "   0 & 0 & -k  \\\\\n",
    "   0 & 0 & 0 \\\\\n",
    "  \\end{array} } \\right]\n",
    "\\left[ {\\begin{array}{c}\n",
    "    a_1 \\\\\n",
    "    a_2 \\\\\n",
    "    a_3 \\\\\n",
    "    a_4 \\\\\n",
    "    a_5 \\\\\n",
    "  \\end{array} } \\right]\n",
    "  = \\omega^2\n",
    "\\left[ {\\begin{array}{ccc}\n",
    "   m_1 & 0 & 0  \\\\\n",
    "   0 & m_2 & 0 \\\\\n",
    "   0 & 0 & m_3 \\\\\n",
    "  \\end{array} } \\right]\n",
    "\\left[ {\\begin{array}{c}\n",
    "    a_1 \\\\\n",
    "    a_2 \\\\\n",
    "    a_3 \\\\\n",
    "  \\end{array} } \\right]\n",
    "$$\n",
    "\n",
    "\n",
    "For a N mass system the same set up applies except each matrix will have more components.\n",
    " "
   ]
  },
  {
   "cell_type": "code",
   "execution_count": 208,
   "metadata": {},
   "outputs": [],
   "source": [
    "m=1 #for simplicity, all m values in the system will be equal to one \n",
    "\n",
    "C=m*np.identity(N-1) #Identity matrix multiplied by m"
   ]
  },
  {
   "cell_type": "code",
   "execution_count": 209,
   "metadata": {},
   "outputs": [
    {
     "name": "stdout",
     "output_type": "stream",
     "text": [
      "eigenvalues (omega^2): [-3.99900318e+00 -3.99601371e+00 -3.99103457e+00 -3.98407072e+00\n",
      " -3.97512910e+00 -3.96421864e+00 -3.95135020e+00 -3.93653661e+00\n",
      " -3.91979264e+00 -3.90113498e+00 -3.88058222e+00 -3.85815487e+00\n",
      " -3.83387526e+00 -3.80776760e+00 -3.77985792e+00 -3.75017404e+00\n",
      " -3.71874555e+00 -3.68560378e+00 -3.65078176e+00 -3.61431421e+00\n",
      " -3.57623747e+00 -3.53658950e+00 -3.49540983e+00 -3.45273950e+00\n",
      " -3.40862105e+00 -3.36309846e+00 -3.31621709e+00 -3.26802370e+00\n",
      " -3.21856631e+00 -3.16789423e+00 -3.11605796e+00 -3.06310919e+00\n",
      " -3.00910068e+00 -2.95408628e+00 -2.89812083e+00 -2.84126011e+00\n",
      " -2.78356080e+00 -2.72508043e+00 -2.66587727e+00 -2.60601036e+00\n",
      " -2.54553936e+00 -2.48452456e+00 -2.42302677e+00 -2.36110730e+00\n",
      " -2.29882787e+00 -2.23625056e+00 -2.17343776e+00 -2.11045206e+00\n",
      " -2.04735627e+00 -1.98421327e+00 -1.92108600e+00 -1.85803740e+00\n",
      " -1.79513031e+00 -1.73242744e+00 -1.66999129e+00 -1.60788410e+00\n",
      " -1.54616778e+00 -1.48490385e+00 -1.42415338e+00 -1.36397693e+00\n",
      " -1.30443447e+00 -1.24558538e+00 -1.18748830e+00 -1.13020114e+00\n",
      " -1.07378103e+00 -1.01828419e+00 -9.63765940e-01 -9.10280634e-01\n",
      " -8.57881585e-01 -8.06621023e-01 -7.56550048e-01 -7.07718571e-01\n",
      " -6.60175269e-01 -6.13967532e-01 -5.69141423e-01 -5.25741625e-01\n",
      " -4.83811400e-01 -4.43392544e-01 -4.04525349e-01 -3.67248557e-01\n",
      " -3.31599328e-01 -2.97613196e-01 -2.65324041e-01 -2.34764049e-01\n",
      " -2.05963682e-01 -1.78951650e-01 -1.53754878e-01 -1.30398483e-01\n",
      " -1.08905748e-01 -8.92980970e-02 -7.15950750e-02 -5.58143290e-02\n",
      " -4.19715895e-02 -3.00806553e-02 -2.01533796e-02 -1.21996580e-02\n",
      " -6.22741910e-03 -2.24261603e-03 -2.49220965e-04]\n"
     ]
    }
   ],
   "source": [
    "lamb, a = eigh(A, C)        # eigenvalues and eigenvectors  \n",
    "print(\"eigenvalues (omega^2):\", lamb)"
   ]
  },
  {
   "cell_type": "code",
   "execution_count": 210,
   "metadata": {},
   "outputs": [
    {
     "name": "stdout",
     "output_type": "stream",
     "text": [
      "eigenvectors are column vectors in:\n",
      "\n",
      " [[ 0.00447567 -0.00894688 -0.01340917 ...  0.01117942 -0.00671211\n",
      "  -0.00223811]\n",
      " [-0.00894688  0.01785809  0.02669812 ...  0.02228922 -0.01340917\n",
      "  -0.00447567]\n",
      " [ 0.01340917 -0.02669812 -0.03974771 ...  0.03326021 -0.02007616\n",
      "  -0.00671211]\n",
      " ...\n",
      " [ 0.01117942  0.02228922 -0.03326021 ...  0.13902469  0.14078362\n",
      "  -0.14166584]\n",
      " [-0.00671211 -0.01340917  0.02007616 ...  0.14078362  0.14141863\n",
      "  -0.14173649]\n",
      " [ 0.00223811  0.00447567 -0.00671211 ...  0.14166584  0.14173649\n",
      "  -0.14177182]]\n"
     ]
    }
   ],
   "source": [
    "print(\"eigenvectors are column vectors in:\\n\\n\", a)"
   ]
  },
  {
   "cell_type": "markdown",
   "metadata": {},
   "source": [
    "Next we will want to create the modes for the system using the eigenvalues and vectors found above."
   ]
  },
  {
   "cell_type": "code",
   "execution_count": 226,
   "metadata": {},
   "outputs": [],
   "source": [
    "u_i = np.zeros(N-1)\n",
    "Acoeffs = np.linalg.solve(a,u_i_with_boundary[:-1])\n",
    "t = np.linspace(0,t_total,1000)\n",
    "\n",
    "omegas = np.sqrt(np.abs(lamb))\n",
    "u_atoms = np.zeros((N-1,len(t)))\n",
    "\n",
    "for i in range(N-1):\n",
    "    for w in range(0,len(omegas)):\n",
    "        u_atoms[i] = u_atoms[i] + Acoeffs[w]*a[i,w]*np.cos(omegas[w]*t)\n",
    "        \n"
   ]
  },
  {
   "cell_type": "code",
   "execution_count": 227,
   "metadata": {},
   "outputs": [
    {
     "data": {
      "image/png": "[encoded data removed]",
      "text/plain": [
       "<Figure size 432x288 with 1 Axes>"
      ]
     },
     "metadata": {
      "needs_background": "light"
     },
     "output_type": "display_data"
    }
   ],
   "source": [
    "plot_mode_teq0(0,omegas,a,N-1)"
   ]
  },
  {
   "cell_type": "code",
   "execution_count": 228,
   "metadata": {},
   "outputs": [
    {
     "data": {
      "image/png": "[encoded data removed]",
      "text/plain": [
       "<Figure size 432x288 with 1 Axes>"
      ]
     },
     "metadata": {
      "needs_background": "light"
     },
     "output_type": "display_data"
    }
   ],
   "source": [
    "plot_mode_teq0(1,omegas,a,N-1)"
   ]
  },
  {
   "cell_type": "code",
   "execution_count": 229,
   "metadata": {},
   "outputs": [
    {
     "data": {
      "image/png": "[encoded data removed]",
      "text/plain": [
       "<Figure size 432x288 with 1 Axes>"
      ]
     },
     "metadata": {
      "needs_background": "light"
     },
     "output_type": "display_data"
    }
   ],
   "source": [
    "plot_mode_teq0(2,omegas,a,N-1)"
   ]
  },
  {
   "cell_type": "markdown",
   "metadata": {},
   "source": [
    "I have plotted the first three modes of the string. More can be discovered by changing the first number in the function. After doing this we'll want to see how the Gaussian reacts with a string with only one boundary. To do this I animated the string over time using the easy animate package.  "
   ]
  },
  {
   "cell_type": "code",
   "execution_count": 187,
   "metadata": {},
   "outputs": [
    {
     "data": {
      "text/plain": [
       "(201, 101)"
      ]
     },
     "execution_count": 187,
     "metadata": {},
     "output_type": "execute_result"
    }
   ],
   "source": [
    "L, N = 10, 100           # length of string, number of intervals\n",
    "b = 1.0                    # beta^2\n",
    "\n",
    "t_total = 20\n",
    "N_t = 200 #number of time intervals\n",
    "dt = t_total/N_t\n",
    "t = 0\n",
    "ta = np.linspace(0,t_total,N_t+1)\n",
    "\n",
    "x = np.linspace(0, L, N+1)\n",
    "u0, u1 = gaussian(x), gaussian(x)\n",
    "\n",
    "data = np.zeros((N_t+1,N+1))  #columns are u at grid points\n",
    "data[0]=u0\n",
    "data[1]=u1\n",
    "\n",
    "for i in range(N_t):\n",
    "    u2 = wavemotion(u0, u1)\n",
    "    u2[N]=u2[N-1] #free end; set displacement of last atom to be same as the displacement of the previous atom\n",
    "    u0, u1 = u1, u2\n",
    "    data[i]=u2\n",
    "\n",
    "data.shape\n"
   ]
  },
  {
   "cell_type": "code",
   "execution_count": 188,
   "metadata": {},
   "outputs": [
    {
     "name": "stderr",
     "output_type": "stream",
     "text": [
      "100%|██████████| 201/201 [01:02<00:00,  3.24it/s]\n"
     ]
    }
   ],
   "source": [
    "file='string.mp4'\n",
    "easyanimate_string(ta,data,file)"
   ]
  },
  {
   "cell_type": "code",
   "execution_count": 189,
   "metadata": {},
   "outputs": [],
   "source": [
    "import imageio\n",
    "imageio.plugins.ffmpeg.download()"
   ]
  },
  {
   "cell_type": "code",
   "execution_count": 190,
   "metadata": {},
   "outputs": [
    {
     "data": {
      "text/html": [
       "\n",
       "                <video width=\"320\" height=\"240\" controls>\n",
       "                  <source src=\"string.mp4\" type=\"video/mp4\">\n",
       "                </video>\n",
       "                "
      ],
      "text/plain": [
       "<IPython.core.display.HTML object>"
      ]
     },
     "execution_count": 190,
     "metadata": {},
     "output_type": "execute_result"
    }
   ],
   "source": [
    "playVideo(file)"
   ]
  },
  {
   "cell_type": "markdown",
   "metadata": {},
   "source": [
    "It can be seen from the video above that the Gaussian does not invert the wave being relfected off the unfixed side of the string.\n",
    "\n",
    "After Doing this we'll want to investigate a couple more initial conditions that will impact the motion of the string. The conditions that i will investigate are a Gaussian with a velocity in the left direction and the string being pinched in three secions, creating a tent like structure.  "
   ]
  },
  {
   "cell_type": "code",
   "execution_count": 203,
   "metadata": {},
   "outputs": [
    {
     "data": {
      "text/plain": [
       "(201, 101)"
      ]
     },
     "execution_count": 203,
     "metadata": {},
     "output_type": "execute_result"
    }
   ],
   "source": [
    "L, N = 10, 100           # length of string, number of intervals\n",
    "b = 1.0                    # beta^2\n",
    "h = L/N\n",
    "\n",
    "t_total = 20\n",
    "N_t = 200 #number of time intervals\n",
    "dt = t_total/N_t\n",
    "t = 0\n",
    "ta = np.linspace(0,t_total,N_t+1)\n",
    "\n",
    "x = np.linspace(0, L, N+1)\n",
    "u0 = gaussian(x)\n",
    "u1 = gaussian(x+b*h)\n",
    "\n",
    "data = np.zeros((N_t+1,N+1))  #columns are u at grid points\n",
    "data[0]=u0\n",
    "data[1]=u1\n",
    "\n",
    "for i in range(N_t):\n",
    "    u2 = wavemotion(u0, u1)\n",
    "    u2[N]=u2[N-1] #free end; set displacement of last atom to be same as the displacement of the previous atom\n",
    "    u0, u1 = u1, u2\n",
    "    data[i]=u2\n",
    "\n",
    "\n",
    "data.shape\n"
   ]
  },
  {
   "cell_type": "code",
   "execution_count": 204,
   "metadata": {},
   "outputs": [
    {
     "name": "stderr",
     "output_type": "stream",
     "text": [
      "100%|██████████| 201/201 [00:53<00:00,  3.77it/s]\n"
     ]
    }
   ],
   "source": [
    "file='string2.mp4'\n",
    "easyanimate_string(ta,data,file)"
   ]
  },
  {
   "cell_type": "code",
   "execution_count": 205,
   "metadata": {},
   "outputs": [
    {
     "data": {
      "text/html": [
       "\n",
       "                <video width=\"320\" height=\"240\" controls>\n",
       "                  <source src=\"string2.mp4\" type=\"video/mp4\">\n",
       "                </video>\n",
       "                "
      ],
      "text/plain": [
       "<IPython.core.display.HTML object>"
      ]
     },
     "execution_count": 205,
     "metadata": {},
     "output_type": "execute_result"
    }
   ],
   "source": [
    "playVideo(file)"
   ]
  },
  {
   "cell_type": "markdown",
   "metadata": {},
   "source": [
    "By observing the video above with a Gaussian with a velocity to the left it can clearly be observed again that the fixed point of the string inverts the wave where as the free end reflects the same wave and doesn't invert it. "
   ]
  }
 ],
 "metadata": {
  "kernelspec": {
   "display_name": "Python 3",
   "language": "python",
   "name": "python3"
  },
  "language_info": {
   "codemirror_mode": {
    "name": "ipython",
    "version": 3
   },
   "file_extension": ".py",
   "mimetype": "text/x-python",
   "name": "python",
   "nbconvert_exporter": "python",
   "pygments_lexer": "ipython3",
   "version": "3.6.6"
  }
 },
 "nbformat": 4,
 "nbformat_minor": 2
}
